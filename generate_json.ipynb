{
 "cells": [
  {
   "cell_type": "code",
   "execution_count": 1,
   "id": "2b81b662",
   "metadata": {},
   "outputs": [],
   "source": [
    "import json\n",
    "import pandas as pd\n",
    "import os"
   ]
  },
  {
   "cell_type": "code",
   "execution_count": 12,
   "id": "154233ef",
   "metadata": {},
   "outputs": [],
   "source": [
    "experiment_id = \"FSBO2\""
   ]
  },
  {
   "cell_type": "code",
   "execution_count": 13,
   "id": "6ffb282f",
   "metadata": {},
   "outputs": [],
   "source": [
    "seeds = [\"test0\", \"test1\", \"test2\", \"test3\", \"test4\"]"
   ]
  },
  {
   "cell_type": "code",
   "execution_count": 14,
   "id": "86d85ee0",
   "metadata": {},
   "outputs": [],
   "source": [
    "results_path = \"results/\""
   ]
  },
  {
   "cell_type": "code",
   "execution_count": 27,
   "id": "b19c1d75",
   "metadata": {},
   "outputs": [],
   "source": [
    "\n",
    "results = {}\n",
    "for seed in seeds:\n",
    "    \n",
    "    space_path = os.path.join(results_path,seed,experiment_id)\n",
    "    space_list = os.listdir(space_path)\n",
    "    \n",
    "    for space in space_list:\n",
    "        if space not in results.keys(): results[space] = {}\n",
    "            \n",
    "        files = os.listdir(os.path.join(space_path,space))\n",
    "        \n",
    "        for file in files:\n",
    "            data = pd.read_csv(os.path.join(space_path, space, file))\n",
    "            task = file.split(\".\")[0]\n",
    "            \n",
    "            if task not in results[space].keys(): results[space][task] = {}\n",
    "            \n",
    "            temp_results = data.regret.values.tolist()\n",
    "            \n",
    "            temp_results += [0]*(101-len(temp_results))\n",
    "            temp_results = [1-x for x in temp_results]\n",
    "            results[space][task][seed] = temp_results"
   ]
  },
  {
   "cell_type": "code",
   "execution_count": 28,
   "id": "3170e56f",
   "metadata": {},
   "outputs": [],
   "source": [
    "with open(f\"benchmark_results/{experiment_id}.json\", \"w\") as f:\n",
    "    json.dump(results, f)"
   ]
  },
  {
   "cell_type": "code",
   "execution_count": null,
   "id": "41c2c3a5",
   "metadata": {},
   "outputs": [],
   "source": []
  }
 ],
 "metadata": {
  "kernelspec": {
   "display_name": "Python 3",
   "language": "python",
   "name": "python3"
  },
  "language_info": {
   "codemirror_mode": {
    "name": "ipython",
    "version": 3
   },
   "file_extension": ".py",
   "mimetype": "text/x-python",
   "name": "python",
   "nbconvert_exporter": "python",
   "pygments_lexer": "ipython3",
   "version": "3.8.8"
  }
 },
 "nbformat": 4,
 "nbformat_minor": 5
}
